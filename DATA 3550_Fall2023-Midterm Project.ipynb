{
 "cells": [
  {
   "cell_type": "markdown",
   "metadata": {},
   "source": [
    "# DATA 3550_Fall 2023-Midterm Project \n",
    "\n",
    "* Submission Deadline: Saturday, 10/28/2023 at 5 pm."
   ]
  },
  {
   "cell_type": "markdown",
   "metadata": {},
   "source": [
    "# DATA 3550_Fall2023-Midterm Project   Submission Guidelines\n",
    "\n",
    "## Scenario\n",
    "\n",
    "Imagine that you are part of a data science team hired by ABC Housing LLC in Murfreesboro, specializing in buying and selling houses. Your role is to develop an accurate prediction model for the \"Saleprice\" of houses. Collaborating with your team, you'll need to convey your findings to a manager who lacks familiarity with statistics and data science. The ultimate aim of your project report is to provide insights that will guide the company's real estate decisions. Additionally, the company is interested in identifying the top five crucial factors influencing house prices. Concluding the project, your team will deliver a concise presentation highlighting your discoveries.\n",
    "\n",
    "## Jupyter Notebook Formatting Guidelines\n",
    "\n",
    "It is very important that your Jupyter Notebook is formatted correctly with markdown, comments, and code that works. You may lose lot of points if the formatting guidelines is not followed and the results are not adequately explained.\n",
    "Please do the following for each section\n",
    "\n",
    "* Include a title as a Heading 2\n",
    "* Include a brief summary of the section\n",
    "* Include your code and make sure it is executable and correct, include comments with the code.\n",
    "* At the end of the section, include a brief summary of the results.\n",
    "\n",
    "## Power Point Presentation Formatting Guidelines\n",
    "\n",
    "Your PowerPoint presentation should encompass the outlined sections, each corresponding to the respective guideline sections. The presentation structure should follow:\n",
    "\n",
    "1. **Exploratory Data Analysis (Section 2)**\n",
    "2. **Feature Engineering (Section 3)**\n",
    "3. **Data Imputation (Section 4)**\n",
    "4. **Train/Test Split and Scaling (Section 5)**\n",
    "5. **Multiple Regression (Section 6)**\n",
    "6. **LASSO Regression (Section 7)**\n",
    "7. **Ridge Regression (Section 8)**\n",
    "8. **Kernel Ridge Regression (Section 9)**\n",
    "9. **Model Comparison (Section 10)**\n",
    "10. **Conclusion (Section 10)**\n",
    "\n",
    "Each section should be clear, concise, and visually engaging. Ensure that your presentation effectively communicates the key points, methods used, results obtained, and any insights or conclusions drawn. Feel free to incorporate relevant graphs, charts, and examples to enhance the clarity of your content.\n",
    "\n",
    "**Note: The total number of slides should be between 13 - 15 including the title slide**\n",
    "\n",
    "\n",
    "## How to turn it in:\n",
    "\n",
    "** You will turn in the notebook file and also upload a presentation slides**\n",
    "\n",
    "*  Your Jupyter notebook file must be named Data3550MidPro_LastnameFirstInitial.ipynb. For example: the file name will be Data3550MidPro_RimalR.ipynb if I submit the Midterm Project.\n",
    "* You are to turn in your Jupyter notebook file only. No data files and no folders.\n",
    "* It is assumed that you created your Jupyter notebook in a folder named Data3550MidPro_student and in that folder is a Dataset folder. It is expected the path for importing a file is looking for a data folder, for example ‘Dataset/DF_AH.csv’.\n",
    "* Additionally, for the presentation, save it as a PowerPoint file with the name: Data3550MidPro_GroupName.ppt. For instance, if your group name is LASSO, the file should be named Data3550MidPro_LASSO.ppt.\n",
    "\n",
    "** Please make sure to adhere to these guidelines when submitting your materials for the Midterm Project**"
   ]
  },
  {
   "cell_type": "markdown",
   "metadata": {},
   "source": [
    "## 1. Import required packages"
   ]
  },
  {
   "cell_type": "code",
   "execution_count": 2,
   "metadata": {},
   "outputs": [],
   "source": [
    "import numpy as np\n",
    "import pandas as pd\n",
    "import seaborn as sns\n",
    "import matplotlib.pyplot as plt\n",
    "plt.style.use('fivethirtyeight')\n",
    "%matplotlib inline\n",
    "\n",
    "from sklearn import datasets, linear_model\n",
    "from sklearn.model_selection import train_test_split\n",
    "from sklearn.metrics import mean_squared_error,r2_score,mean_absolute_error,mean_absolute_percentage_error\n",
    "\n",
    "from numpy import arange\n",
    "\n",
    "from sklearn.model_selection import RepeatedKFold\n",
    "from sklearn.model_selection import cross_val_score\n",
    "\n",
    "\n",
    "from sklearn.model_selection import GridSearchCV\n",
    "from sklearn.linear_model import Lasso\n",
    "\n",
    "pd.set_option('display.max_columns',200) #allows for up to 200 columns to be displayed when viewing a dataframe\n",
    "pd.set_option('display.max_rows',100)\n",
    "plt.style.use('seaborn') # a style that can be used for plots - see style reference above\n",
    "\n",
    "# trick to widen the screen\n",
    "from IPython.core.display import display, HTML\n",
    "\n",
    "#Widens the code landscape \n",
    "display(HTML(\"<style>.container { width:95% !important; }</style>\"))\n",
    "\n",
    "import warnings\n",
    "warnings.filterwarnings(\"ignore\", category=DeprecationWarning)\n",
    "warnings.filterwarnings(\"ignore\", category=FutureWarning)"
   ]
  },
  {
   "cell_type": "markdown",
   "metadata": {},
   "source": [
    "## 2. Import  the dataset DF_AH.csv and  Exploratory Data Analysis(15 points)\n",
    "* The dataset DF_AH.csv is exported from the data data preprocessing notebook after we removed the outliars, and doing some feature engineering. This dataset contains 92 variables including the target variable.\n",
    "* Do the exploratory data analysis to gain better insights on the data"
   ]
  },
  {
   "cell_type": "markdown",
   "metadata": {},
   "source": [
    "## 3. Perform additional Feature Engineering(10 points)"
   ]
  },
  {
   "cell_type": "markdown",
   "metadata": {},
   "source": [
    "1) Identify the unique number of foundation types\n",
    "\n",
    "2) Create the dummy variable for the foundation type\n",
    "\n",
    "3) Identify the all the unique neighbourhood\n",
    "\n",
    "4) Create the dummy variable for the neighbourhood\n",
    "\n",
    "5) Look at the DF_AH.info() and drop all the variables that have Non-Null count less than 2500.\n"
   ]
  },
  {
   "cell_type": "markdown",
   "metadata": {},
   "source": [
    "## 4.  Impute the data (10 points)\n",
    "\n",
    "1) Check whether each of the variables have missing values\n",
    "\n",
    "2) Impute the missing values using appropriate method and explain why you use that method?\n",
    "\n",
    "3) Look at the data and for remaining categorical variable, create the dummy variable, or drop the variable. Explain your reasoning.\n"
   ]
  },
  {
   "cell_type": "markdown",
   "metadata": {},
   "source": [
    "## 5. Create the train/test data and scaling (5 points)\n",
    "\n",
    "1) Split the data into training and test set with training on 80 percent. You may use the following code \n",
    "\n",
    "* X = DF_AH.drop('SalePrice', axis = 1) #keep features only for X\n",
    "* y = DF_AH['SalePrice'] #keep target variable only for y\n",
    "\n",
    "* X_train, X_test, y_train, y_test = train_test_split(X, y, test_size = 0.2, random_state = 42)\n",
    "\n",
    "2) Standardize the data using standard scaler, then you will be building the regression models suing the scaled data."
   ]
  },
  {
   "cell_type": "markdown",
   "metadata": {},
   "source": [
    "## 6.  Build the Multiple Regression Model (10 points)\n",
    "\n",
    "(a)  Build a multiple regression model using backwards elimination. To do this follow the following steps:\n",
    "\n",
    "(1) Build initial model \n",
    "\n",
    "(2) Review p-values\n",
    "\n",
    "    - if a p-value is > 0.05 then eliminate the highest p-value and go to step 3\n",
    "    - **if all p-values are less than 0.05 then your model is complete**\n",
    "    \n",
    "(3) Build a new model without eliminated independent variable\n",
    "\n",
    "(4) Go back to step 2\n",
    "\n",
    "(b) Write the regression equation where Saleprice is a dependent(target) variable and all the statistically significant predictors as independent variable.\n",
    "\n",
    "(5) As we used the validation set approach here, predict the y values in the test data and report the following measures of accuracy.\n",
    "\n",
    "     - Root Mean Squared Error\n",
    "     - Mean Absolute Percentage Error\n",
    "     - R squared\n",
    "Please interpret these values.\n",
    "\n",
    "Note: To keep the readability of Jupyter notebook, please include the initial model and the final model for the multiple regression using backward elimination."
   ]
  },
  {
   "cell_type": "markdown",
   "metadata": {},
   "source": [
    "## 7. Build the LASSO Regression Model(10 points)\n",
    "\n",
    "(a)  Build a LASSO regression model using all the variables that you used initially in your multiple linear regression model. You are advised to use the grid search CV(5 fold) on training data to find the best value of lambda. Then report the following measures on the test dataset:\n",
    "\n",
    "     - Root Mean Squared Error\n",
    "     - Mean Absolute Percentage Error\n",
    "     - R squared\n",
    "How do you interpret these values?\n",
    "\n",
    "(b) Identify the variables with the non zero regression coefficients. Are they the same as the one that is statistically insignificant in multiple linear regression model?\n",
    "\n",
    "\n",
    "(c) Write the regression equation where Saleprice is a dependent(target) variable and all the statistically significant predictors as independent variable."
   ]
  },
  {
   "cell_type": "markdown",
   "metadata": {},
   "source": [
    "## 8. Build the Ridge Regression Model(10 points)\n",
    "\n",
    "(a)  Build the Ridge regression model using all the variables that you used initially in your multiple linear regression model together with the best lambda obtained by grid search CV(5 fold)  on the training data. \n",
    "Please report the scores of following measures on the test dataset:\n",
    "\n",
    "     - Root Mean Squared Error\n",
    "     - Mean Absolute Percentage Error\n",
    "     - R squared\n",
    "How do you interpret these values?\n",
    "\n",
    "(b) Identify the regression coefficients of all variables. What is the difference you noticed between the Lasso and the Ridge regression coefficients?\n",
    "\n",
    "(c) Write the regression equation with Saleprice as a dependent(target) variable and all the predictors as independent variable. Note: Since the value of coefficient may be very small, you may round the coefficient to two decimal places and use the non zero coefficients.\n",
    " "
   ]
  },
  {
   "cell_type": "markdown",
   "metadata": {},
   "source": [
    "## 9. Build the Kernel Ridge Regression Model(10 points)\n",
    "\n",
    "(a)  Build the Kernel Ridge regression model using all the variables that you used initially in your multiple linear regression model together with the best values of tuning parameters obtained by grid search CV(5 fold)  on the training data. \n",
    "Please report the scores of following measures on the test dataset:\n",
    "\n",
    "     - Root Mean Squared Error\n",
    "     - Mean Absolute Percentage Error\n",
    "     - R squared\n",
    "How do you interpret these values?\n",
    "\n",
    "(b) By conducting the error analysis, what is the difference you noticed with the previous models?\n",
    "\n",
    "(c)  Write the regression equation with Saleprice as a dependent(target) variable and all the predictors as independent variable, if possible.\n",
    " "
   ]
  },
  {
   "cell_type": "markdown",
   "metadata": {},
   "source": [
    "## 10. Model Comparison and Conclusion (20 points)"
   ]
  },
  {
   "cell_type": "markdown",
   "metadata": {},
   "source": [
    " (a) Create the visualizations of the residuals from the multiple regression, LASSO regression, Ridge regression and Kernel Ridge regression. You can create several visuals that are useful to gain insights on the residuals of each models separately or together. Explain what you observe from these graphs.\n",
    " \n",
    " (b) Study the performance scores obtained from all three models and explain which model the company need to choose for deployment and why? Provide the support for your resoning/decision with the appropriate graphs and tables with a clear explanation."
   ]
  },
  {
   "cell_type": "code",
   "execution_count": null,
   "metadata": {},
   "outputs": [],
   "source": []
  }
 ],
 "metadata": {
  "kernelspec": {
   "display_name": "Python 3",
   "language": "python",
   "name": "python3"
  },
  "language_info": {
   "codemirror_mode": {
    "name": "ipython",
    "version": 3
   },
   "file_extension": ".py",
   "mimetype": "text/x-python",
   "name": "python",
   "nbconvert_exporter": "python",
   "pygments_lexer": "ipython3",
   "version": "3.8.8"
  }
 },
 "nbformat": 4,
 "nbformat_minor": 4
}
